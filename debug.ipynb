{
 "cells": [
  {
   "cell_type": "code",
   "execution_count": 1,
   "metadata": {},
   "outputs": [
    {
     "name": "stdout",
     "output_type": "stream",
     "text": [
      "/content/drive/MyDrive/colab/AFP-GenFactor\n"
     ]
    }
   ],
   "source": [
    "import yaml\n",
    "import torch\n",
    "import numpy as np\n",
    "from pathlib import Path\n",
    "from scripts.utils import DataLoader\n",
    "from models.transformer import Transformer\n",
    "from models.genfactor import GenFactor\n",
    "from models.mlp import MLP\n",
    "import pandas as pd\n",
    "import os\n",
    "from tqdm import tqdm\n",
    "\n",
    "# WORK_PATH = Path.cwd()\n",
    "# FILE_PATH = WORK_PATH / Path('configs/mlp.yml')\n",
    "# print(FILE_PATH)\n",
    "# with open(FILE_PATH, 'r') as file:\n",
    "#     args = yaml.safe_load(file)\n",
    "# dl = DataLoader(args, 'cuda')\n",
    "# model = MLP('MLP32',dl, args)"
   ]
  },
  {
   "cell_type": "code",
   "execution_count": 2,
   "metadata": {},
   "outputs": [],
   "source": [
    "# Load data\n",
    "target = '1d_return'\n",
    "df = pd.read_csv('data/Data_With_Residual_New.csv')\n",
    "fac_name = [f for f in df.columns if f not in ['Ticker','1d_return', '5d_return', '1d_residual_return', '1d_predict_return', 'Date']]\n",
    "category = [f for f in df.columns if df[f].dtypes in ['bool', 'int64']]\n",
    "\n",
    "df= df.dropna(subset=[target]) # drop nan in label, feature\n",
    "buffer = False\n",
    "to_clean = [f for f in fac_name if f not in category]\n",
    "def cross_section_norm(df):\n",
    "    '''\n",
    "    cross section normalization\n",
    "    '''\n",
    "    z_score = (df - df.mean())/df.std()\n",
    "    z_score[z_score>3] = 3\n",
    "    z_score[z_score<-3] = -3\n",
    "    return z_score\n",
    "\n",
    "df[to_clean] = df.groupby('Date')[to_clean].apply(cross_section_norm)\n",
    "def cross_section_norm_category(df):\n",
    "    '''\n",
    "    cross section normalization for categorical data\n",
    "    '''\n",
    "    if df.dtypes.all() == 'bool':\n",
    "        return df.astype(int)\n",
    "    else:\n",
    "        return cross_section_norm(df + np.random.normal(0, 0.01, df.shape))\n",
    "df[category] = df.groupby('Date')[category].apply(cross_section_norm_category) # convert categorical feature to [0,1]\n",
    "df[target] = df.groupby('Date')[target].apply(cross_section_norm) # convert label to [-3,3], we only care cross-section ranking\n",
    "\n",
    "df.to_csv(f'data/cleaned_data_{target}.csv', index=False)"
   ]
  },
  {
   "cell_type": "code",
   "execution_count": 2,
   "metadata": {},
   "outputs": [],
   "source": [
    "model.reset_weight()\n",
    "model.refit()"
   ]
  },
  {
   "cell_type": "code",
   "execution_count": 3,
   "metadata": {},
   "outputs": [
    {
     "name": "stderr",
     "output_type": "stream",
     "text": [
      "INFO:pytorch_lightning.utilities.rank_zero:GPU available: True (cuda), used: True\n",
      "INFO:pytorch_lightning.utilities.rank_zero:TPU available: False, using: 0 TPU cores\n",
      "INFO:pytorch_lightning.utilities.rank_zero:IPU available: False, using: 0 IPUs\n",
      "INFO:pytorch_lightning.utilities.rank_zero:HPU available: False, using: 0 HPUs\n",
      "INFO:pytorch_lightning.utilities.rank_zero:You are using a CUDA device ('NVIDIA A100-SXM4-40GB') that has Tensor Cores. To properly utilize them, you should set `torch.set_float32_matmul_precision('medium' | 'high')` which will trade-off precision for performance. For more details, read https://pytorch.org/docs/stable/generated/torch.set_float32_matmul_precision.html#torch.set_float32_matmul_precision\n"
     ]
    },
    {
     "name": "stdout",
     "output_type": "stream",
     "text": [
      "train period ['2006-02-03', '2011-02-04'] valid period ['2011-02-07', '2013-02-25']\n"
     ]
    },
    {
     "name": "stderr",
     "output_type": "stream",
     "text": [
      "2024-02-23 00:42:00.217115: E external/local_xla/xla/stream_executor/cuda/cuda_dnn.cc:9261] Unable to register cuDNN factory: Attempting to register factory for plugin cuDNN when one has already been registered\n",
      "2024-02-23 00:42:00.217162: E external/local_xla/xla/stream_executor/cuda/cuda_fft.cc:607] Unable to register cuFFT factory: Attempting to register factory for plugin cuFFT when one has already been registered\n",
      "2024-02-23 00:42:00.218701: E external/local_xla/xla/stream_executor/cuda/cuda_blas.cc:1515] Unable to register cuBLAS factory: Attempting to register factory for plugin cuBLAS when one has already been registered\n",
      "2024-02-23 00:42:01.594522: W tensorflow/compiler/tf2tensorrt/utils/py_utils.cc:38] TF-TRT Warning: Could not find TensorRT\n",
      "INFO:pytorch_lightning.accelerators.cuda:LOCAL_RANK: 0 - CUDA_VISIBLE_DEVICES: [0]\n",
      "INFO:pytorch_lightning.callbacks.model_summary:\n",
      "  | Name        | Type        | Params\n",
      "--------------------------------------------\n",
      "0 | encoder     | Linear      | 21    \n",
      "1 | gate        | Linear      | 83    \n",
      "2 | decoder     | Sequential  | 63.4 K\n",
      "3 | output_norm | BatchNorm1d | 2     \n",
      "--------------------------------------------\n",
      "63.5 K    Trainable params\n",
      "0         Non-trainable params\n",
      "63.5 K    Total params\n",
      "0.254     Total estimated model params size (MB)\n"
     ]
    },
    {
     "data": {
      "application/vnd.jupyter.widget-view+json": {
       "model_id": "6bd2e4df3bf447ed9dbdc9f660c785f3",
       "version_major": 2,
       "version_minor": 0
      },
      "text/plain": [
       "Sanity Checking: |          | 0/? [00:00<?, ?it/s]"
      ]
     },
     "metadata": {},
     "output_type": "display_data"
    },
    {
     "data": {
      "application/vnd.jupyter.widget-view+json": {
       "model_id": "41f6df9216084b5eb7f633c9dcba8d49",
       "version_major": 2,
       "version_minor": 0
      },
      "text/plain": [
       "Training: |          | 0/? [00:00<?, ?it/s]"
      ]
     },
     "metadata": {},
     "output_type": "display_data"
    },
    {
     "data": {
      "application/vnd.jupyter.widget-view+json": {
       "model_id": "724d105c4b174387ab1498b440623621",
       "version_major": 2,
       "version_minor": 0
      },
      "text/plain": [
       "Validation: |          | 0/? [00:00<?, ?it/s]"
      ]
     },
     "metadata": {},
     "output_type": "display_data"
    },
    {
     "data": {
      "application/vnd.jupyter.widget-view+json": {
       "model_id": "6802064f20db487d91504c3513016ef0",
       "version_major": 2,
       "version_minor": 0
      },
      "text/plain": [
       "Validation: |          | 0/? [00:00<?, ?it/s]"
      ]
     },
     "metadata": {},
     "output_type": "display_data"
    },
    {
     "data": {
      "application/vnd.jupyter.widget-view+json": {
       "model_id": "e9ce712a1c4c42ba82efd5cccfb270ff",
       "version_major": 2,
       "version_minor": 0
      },
      "text/plain": [
       "Validation: |          | 0/? [00:00<?, ?it/s]"
      ]
     },
     "metadata": {},
     "output_type": "display_data"
    },
    {
     "data": {
      "application/vnd.jupyter.widget-view+json": {
       "model_id": "759abc6bd2f640098c770296b5e24dce",
       "version_major": 2,
       "version_minor": 0
      },
      "text/plain": [
       "Validation: |          | 0/? [00:00<?, ?it/s]"
      ]
     },
     "metadata": {},
     "output_type": "display_data"
    },
    {
     "data": {
      "application/vnd.jupyter.widget-view+json": {
       "model_id": "d5e3b830bb45484097d00e8e1d9cb2d3",
       "version_major": 2,
       "version_minor": 0
      },
      "text/plain": [
       "Validation: |          | 0/? [00:00<?, ?it/s]"
      ]
     },
     "metadata": {},
     "output_type": "display_data"
    },
    {
     "data": {
      "application/vnd.jupyter.widget-view+json": {
       "model_id": "cee753a7928c4940b6ae23ec2b645f43",
       "version_major": 2,
       "version_minor": 0
      },
      "text/plain": [
       "Validation: |          | 0/? [00:00<?, ?it/s]"
      ]
     },
     "metadata": {},
     "output_type": "display_data"
    },
    {
     "data": {
      "application/vnd.jupyter.widget-view+json": {
       "model_id": "2442330c6bec4763b4243c5854c17dd5",
       "version_major": 2,
       "version_minor": 0
      },
      "text/plain": [
       "Validation: |          | 0/? [00:00<?, ?it/s]"
      ]
     },
     "metadata": {},
     "output_type": "display_data"
    },
    {
     "data": {
      "application/vnd.jupyter.widget-view+json": {
       "model_id": "7b17a0d5352a4c0a825da70694eba525",
       "version_major": 2,
       "version_minor": 0
      },
      "text/plain": [
       "Validation: |          | 0/? [00:00<?, ?it/s]"
      ]
     },
     "metadata": {},
     "output_type": "display_data"
    },
    {
     "data": {
      "application/vnd.jupyter.widget-view+json": {
       "model_id": "70d1c600da434a15920d432ab19da389",
       "version_major": 2,
       "version_minor": 0
      },
      "text/plain": [
       "Validation: |          | 0/? [00:00<?, ?it/s]"
      ]
     },
     "metadata": {},
     "output_type": "display_data"
    },
    {
     "data": {
      "application/vnd.jupyter.widget-view+json": {
       "model_id": "9c90f893af6b4b7b803c23eee4fa93a1",
       "version_major": 2,
       "version_minor": 0
      },
      "text/plain": [
       "Validation: |          | 0/? [00:00<?, ?it/s]"
      ]
     },
     "metadata": {},
     "output_type": "display_data"
    },
    {
     "data": {
      "application/vnd.jupyter.widget-view+json": {
       "model_id": "29b55e57cdec4bbd8bc94788c03c6dae",
       "version_major": 2,
       "version_minor": 0
      },
      "text/plain": [
       "Validation: |          | 0/? [00:00<?, ?it/s]"
      ]
     },
     "metadata": {},
     "output_type": "display_data"
    }
   ],
   "source": [
    "model.train_model()"
   ]
  },
  {
   "cell_type": "code",
   "execution_count": 10,
   "metadata": {},
   "outputs": [],
   "source": [
    "import time\n",
    "import json\n",
    "def inference_and_predict(model):\n",
    "    gBar = tqdm(\n",
    "            range((len(model.dl.date) - 1260)//252),\n",
    "            colour=\"red\",\n",
    "            desc=f\"{model.name} Inferencing & Predicting\",\n",
    "        )\n",
    "    pred_result = []\n",
    "    label_result = []\n",
    "    date_result = []\n",
    "    for g in gBar:\n",
    "        try: # ugly but works\n",
    "            model.reset_weight()\n",
    "            model.refit()\n",
    "            gBar.set_postfix({\"Year\": int(model.test_period[0][:4])})\n",
    "            # model.train_model()\n",
    "            pred, label, date = model.predict()\n",
    "            pred_result+=pred\n",
    "            label_result+=label\n",
    "            date_result+=date\n",
    "        except:\n",
    "            pass\n",
    "    pred_result = pd.concat(pred_result,axis=1)\n",
    "    label_result = pd.concat(label_result, axis=1)\n",
    "    pred_result.columns, label_result.columns = date_result, date_result\n",
    "    pred_result.to_csv(model.save_path+'prediction'+f'/{model.name}.csv')\n",
    "    label_result.to_csv(model.save_path+'label'+f'/{model.name}.csv')\n",
    "\n",
    "    # cal metrics\n",
    "    oos_prediction_R2 = 1 - (np.nansum((pred_result - label_result)**2)/ np.nansum(label_result**2))\n",
    "    IC = []\n",
    "    for col in pred_result.columns:\n",
    "        IC.append(np.corrcoef(pred_result[col].dropna(), label_result[col].dropna())[1,0])\n",
    "    \n",
    "    # save IC & R_square to json\n",
    "    p = time.localtime()\n",
    "    time_str = \"{:0>4d}-{:0>2d}-{:0>2d}_{:0>2d}-{:0>2d}-{:0>2d}\".format(\n",
    "        p.tm_year, p.tm_mon, p.tm_mday, p.tm_hour, p.tm_min, p.tm_sec\n",
    "    )\n",
    "    filename = f\"IC_R_squares/{time_str}.json\"\n",
    "    obj = {\n",
    "        \"models\": model.name,\n",
    "        \"R2_pred\": oos_prediction_R2,\n",
    "        \"IC_pred\": np.nanmean(IC),\n",
    "    }\n",
    "\n",
    "    with open(filename, \"w\") as out_file:\n",
    "        json.dump(obj, out_file)"
   ]
  },
  {
   "cell_type": "code",
   "execution_count": 11,
   "metadata": {},
   "outputs": [
    {
     "name": "stdout",
     "output_type": "stream",
     "text": [
      "['2005-11-19', '2006-01-01']\n"
     ]
    },
    {
     "name": "stderr",
     "output_type": "stream",
     "text": [
      "TransWithoutOutputNorm Inferencing & Predicting: 100%|\u001b[31m██████████\u001b[0m| 13/13 [00:12<00:00,  1.07it/s, Year=2023]\n"
     ]
    }
   ],
   "source": [
    "model = Transformer('TransWithoutOutputNorm',dl, args)\n",
    "print(model.train_period)\n",
    "inference_and_predict(model)"
   ]
  },
  {
   "cell_type": "code",
   "execution_count": 14,
   "metadata": {},
   "outputs": [],
   "source": [
    "pred = pd.read_csv('results/prediction/TransWithoutOutputNorm.csv', index_col=0)"
   ]
  },
  {
   "cell_type": "code",
   "execution_count": 16,
   "metadata": {},
   "outputs": [],
   "source": [
    "label = pd.read_csv('results/label/TransWithoutOutputNorm.csv', index_col=0)"
   ]
  },
  {
   "cell_type": "code",
   "execution_count": 28,
   "metadata": {},
   "outputs": [
    {
     "data": {
      "text/plain": [
       "<Axes: title={'center': 'coverage'}>"
      ]
     },
     "execution_count": 28,
     "metadata": {},
     "output_type": "execute_result"
    },
    {
     "data": {
      "image/png": "[encoded data removed]",
      "text/plain": [
       "<Figure size 640x480 with 1 Axes>"
      ]
     },
     "metadata": {},
     "output_type": "display_data"
    }
   ],
   "source": [
    "(1 - label.isna().sum()/503).plot(title='coverage')"
   ]
  },
  {
   "cell_type": "code",
   "execution_count": 29,
   "metadata": {},
   "outputs": [],
   "source": [
    "a,b,c,d = dl[100]"
   ]
  },
  {
   "cell_type": "code",
   "execution_count": 30,
   "metadata": {},
   "outputs": [
    {
     "data": {
      "text/plain": [
       "torch.Size([82, 417, 20])"
      ]
     },
     "execution_count": 30,
     "metadata": {},
     "output_type": "execute_result"
    }
   ],
   "source": [
    "c.shape"
   ]
  },
  {
   "cell_type": "code",
   "execution_count": null,
   "metadata": {},
   "outputs": [],
   "source": []
  }
 ],
 "metadata": {
  "kernelspec": {
   "display_name": "Python 3.10.0 ('factorVAE')",
   "language": "python",
   "name": "python3"
  },
  "language_info": {
   "codemirror_mode": {
    "name": "ipython",
    "version": 3
   },
   "file_extension": ".py",
   "mimetype": "text/x-python",
   "name": "python",
   "nbconvert_exporter": "python",
   "pygments_lexer": "ipython3",
   "version": "3.10.12"
  },
  "orig_nbformat": 4,
  "vscode": {
   "interpreter": {
    "hash": "b15054f6cc9b17db986136b19e810fa83b01d5bfea5f823a6cc57249a388799a"
   }
  }
 },
 "nbformat": 4,
 "nbformat_minor": 2
}
