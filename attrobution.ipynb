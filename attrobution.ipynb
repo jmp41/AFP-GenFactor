{
 "cells": [
  {
   "cell_type": "code",
   "execution_count": 1,
   "metadata": {},
   "outputs": [],
   "source": [
    "import torch\n",
    "import torch.nn.functional as F\n",
    "import torchvision.transforms as transforms\n",
    "import torchvision.models as models\n",
    "\n",
    "import captum\n",
    "from captum.attr import IntegratedGradients, Occlusion, LayerGradCam, LayerAttribution\n",
    "from captum.attr import visualization as viz\n",
    "\n",
    "import matplotlib.pyplot as plt\n",
    "from matplotlib.colors import LinearSegmentedColormap"
   ]
  },
  {
   "cell_type": "code",
   "execution_count": 2,
   "metadata": {},
   "outputs": [
    {
     "name": "stdout",
     "output_type": "stream",
     "text": [
      "/content/drive/MyDrive/colab/AFP-GenFactor\n",
      "/content/drive/MyDrive/colab/AFP-GenFactor/configs/mlp.yml\n"
     ]
    }
   ],
   "source": [
    "import yaml\n",
    "import numpy as np\n",
    "from pathlib import Path\n",
    "from scripts.utils import DataLoader\n",
    "from models.transformer import Transformer\n",
    "from models.genfactor import GenFactor\n",
    "from models.mlp import MLP\n",
    "import pandas as pd\n",
    "import os\n",
    "from tqdm import tqdm\n",
    "\n",
    "WORK_PATH = Path.cwd()\n",
    "FILE_PATH = WORK_PATH / Path('configs/mlp.yml')\n",
    "print(FILE_PATH)\n",
    "with open(FILE_PATH, 'r') as file:\n",
    "    args = yaml.safe_load(file)\n",
    "dl = DataLoader(args, 'cuda')"
   ]
  },
  {
   "cell_type": "code",
   "execution_count": 5,
   "metadata": {},
   "outputs": [
    {
     "name": "stdout",
     "output_type": "stream",
     "text": [
      "results/save_model/mlp/2020/best_model_mlp-v2.ckpt\n"
     ]
    },
    {
     "data": {
      "text/plain": [
       "<All keys matched successfully>"
      ]
     },
     "execution_count": 5,
     "metadata": {},
     "output_type": "execute_result"
    }
   ],
   "source": [
    "model_name = 'mlp'\n",
    "year = 2020\n",
    "dir =   \"results/\" + \"save_model\" + f\"/{model_name}\" + f\"/{int(year)}/\" + \"best_model_\" + f\"{model_name}-v2.ckpt\"\n",
    "print(dir)\n",
    "checkpoint = torch.load(dir, map_location=torch.device('cpu'))\n",
    "model = MLP(model_name,dl, args)\n",
    "state_dict = {key.replace(\"model.\", \"\"): value for key, value in checkpoint['state_dict'].items()}\n",
    "model.load_state_dict(state_dict)"
   ]
  },
  {
   "cell_type": "code",
   "execution_count": 4,
   "metadata": {},
   "outputs": [
    {
     "name": "stdout",
     "output_type": "stream",
     "text": [
      "results/save_model/mlp/2020/best_model_mlp-v2.ckpt\n"
     ]
    }
   ],
   "source": [
    "def load_model(model_name, year, dl):\n",
    "    dir =   \"results/\" + \"save_model\" + f\"/{model_name}\" + f\"/{int(year)}/\" + \"best_model_\" + f\"{model_name}-v2.ckpt\"\n",
    "    model_name = 'mlp'\n",
    "    year = 2020\n",
    "    dir =   \"results/\" + \"save_model\" + f\"/{model_name}\" + f\"/{int(year)}/\" + \"best_model_\" + f\"{model_name}-v2.ckpt\"\n",
    "    print(dir)\n",
    "    checkpoint = torch.load(dir, map_location=torch.device('cpu'))\n",
    "    state_dict = {key.replace(\"model.\", \"\"): value for key, value in checkpoint['state_dict'].items()}\n",
    "\n",
    "    if model_name == 'mlp':\n",
    "        model = MLP(model_name,dl, args)\n",
    "        model.load_state_dict(state_dict)\n",
    "    elif model_name == 'transformer':\n",
    "        model = Transformer(model_name, dl, args)\n",
    "        model.model.load_state_dict(state_dict)\n",
    "    elif model_name == 'genfactor':\n",
    "        model = GenFactor(model_name,dl, args)\n",
    "        model.model.load_state_dict(state_dict)\n",
    "    return model\n",
    "\n",
    "mlp_model = load_model('mlp', 2020, dl)"
   ]
  },
  {
   "cell_type": "code",
   "execution_count": 38,
   "metadata": {},
   "outputs": [],
   "source": [
    "def cal_attr(model, input_data):\n",
    "    integrated_gradients = IntegratedGradients(model.cuda())\n",
    "    attributions_ig = integrated_gradients.attribute(input_data.cuda(), n_steps=1)\n",
    "    attr = attributions_ig[:,:,-1].permute(1,0).mean(dim=0)\n",
    "    return attr.detach().cpu().numpy()"
   ]
  },
  {
   "cell_type": "code",
   "execution_count": 39,
   "metadata": {},
   "outputs": [
    {
     "name": "stdout",
     "output_type": "stream",
     "text": [
      "torch.Size([414, 82, 20])\n"
     ]
    },
    {
     "data": {
      "text/plain": [
       "<function matplotlib.pyplot.show(close=None, block=None)>"
      ]
     },
     "execution_count": 39,
     "metadata": {},
     "output_type": "execute_result"
    },
    {
     "data": {
      "image/png": "[encoded data removed]",
      "text/plain": [
       "<Figure size 640x480 with 1 Axes>"
      ]
     },
     "metadata": {},
     "output_type": "display_data"
    }
   ],
   "source": [
    "attr = cal_attr(mlp_model, dl[21][2])\n",
    "\n",
    "plt.title('Attribution')\n",
    "plt.bar(np.arange(len(attr)),attr)\n",
    "plt.show"
   ]
  }
 ],
 "metadata": {
  "kernelspec": {
   "display_name": "Python 3",
   "language": "python",
   "name": "python3"
  },
  "language_info": {
   "codemirror_mode": {
    "name": "ipython",
    "version": 3
   },
   "file_extension": ".py",
   "mimetype": "text/x-python",
   "name": "python",
   "nbconvert_exporter": "python",
   "pygments_lexer": "ipython3",
   "version": "3.10.12"
  }
 },
 "nbformat": 4,
 "nbformat_minor": 2
}
